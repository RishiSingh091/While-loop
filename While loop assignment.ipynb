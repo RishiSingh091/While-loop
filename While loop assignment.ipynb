{
 "cells": [
  {
   "cell_type": "code",
   "execution_count": null,
   "id": "70d6b5e4-168d-4784-a9d9-23fb57e3ff14",
   "metadata": {},
   "outputs": [],
   "source": [
    "import random\n",
    "correct_number = random.randint(1,100)\n",
    "correct_number = 55\n",
    "attempts = 0\n",
    "while True:\n",
    "    number = int(input(\"Guess a correct number between 1 and 100: \"))\n",
    "    attempts +=1\n",
    "\n",
    "    if number < correct_number:\n",
    "        print(\"Your guess is too low \")\n",
    "    elif number > correct_number:\n",
    "        print(\"your guess is too high\")\n",
    "    else:\n",
    "        print(f\"You guessed the correct number {correct_number} in {attempts} attempt\")\n",
    "        break"
   ]
  }
 ],
 "metadata": {
  "kernelspec": {
   "display_name": "Python 3 (ipykernel)",
   "language": "python",
   "name": "python3"
  },
  "language_info": {
   "codemirror_mode": {
    "name": "ipython",
    "version": 3
   },
   "file_extension": ".py",
   "mimetype": "text/x-python",
   "name": "python",
   "nbconvert_exporter": "python",
   "pygments_lexer": "ipython3",
   "version": "3.10.2"
  }
 },
 "nbformat": 4,
 "nbformat_minor": 5
}
